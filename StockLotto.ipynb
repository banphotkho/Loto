{
 "cells": [
  {
   "cell_type": "code",
   "execution_count": 109,
   "metadata": {},
   "outputs": [],
   "source": [
    "from sklearn import tree\n",
    "import pandas as pd\n",
    "from sklearn.linear_model import LinearRegression"
   ]
  },
  {
   "cell_type": "code",
   "execution_count": 158,
   "metadata": {
    "scrolled": true
   },
   "outputs": [
    {
     "name": "stdout",
     "output_type": "stream",
     "text": [
      "Day: 13\n",
      "Month: 6\n",
      "Year: 2562\n"
     ]
    }
   ],
   "source": [
    "data = pd.read_csv('afternoon.csv')\n",
    "day = list(zip(data['day'],data['month'],data['year']))\n",
    "last_2digit_down = data['last_2digit_down']\n",
    "iD = int(input(\"Day: \"))\n",
    "iM = int(input(\"Month: \"))\n",
    "iY = int(input(\"Year: \"))"
   ]
  },
  {
   "cell_type": "code",
   "execution_count": 159,
   "metadata": {},
   "outputs": [],
   "source": [
    "def perdictLotto(d,m,y,data1,data2):\n",
    "\tclassifier = tree.DecisionTreeClassifier(criterion = \"entropy\", splitter = \"random\", max_depth = 2,  min_samples_split = 5,\n",
    "                              min_samples_leaf = 2, max_features = 2)\n",
    "\tclassifier.fit(data1,data2)\n",
    "\treturn classifier.predict([[d,m,y]])[0]"
   ]
  },
  {
   "cell_type": "code",
   "execution_count": 160,
   "metadata": {
    "scrolled": true
   },
   "outputs": [
    {
     "name": "stdout",
     "output_type": "stream",
     "text": [
      "      56\n"
     ]
    }
   ],
   "source": [
    "print(\"      %02d\"%perdictLotto(iD,iM,iY,day,last_2digit_down))  #825,47,200,72"
   ]
  },
  {
   "cell_type": "code",
   "execution_count": 161,
   "metadata": {},
   "outputs": [],
   "source": [
    "def perdictLotto2(d,m,y,data1,data2):\n",
    "\tmodel = LinearRegression()\n",
    "\tmodel.fit(data1,data2)\n",
    "\tpredict = model.predict([[d,m,y]])\n",
    "\treturn predict[0]"
   ]
  },
  {
   "cell_type": "code",
   "execution_count": 162,
   "metadata": {},
   "outputs": [
    {
     "name": "stdout",
     "output_type": "stream",
     "text": [
      "      49\n"
     ]
    }
   ],
   "source": [
    "print(\"      %02d\"%perdictLotto2(iD,iM,iY,day,last_2digit_down))"
   ]
  },
  {
   "cell_type": "code",
   "execution_count": null,
   "metadata": {},
   "outputs": [],
   "source": []
  }
 ],
 "metadata": {
  "kernelspec": {
   "display_name": "Python 3",
   "language": "python",
   "name": "python3"
  },
  "language_info": {
   "codemirror_mode": {
    "name": "ipython",
    "version": 3
   },
   "file_extension": ".py",
   "mimetype": "text/x-python",
   "name": "python",
   "nbconvert_exporter": "python",
   "pygments_lexer": "ipython3",
   "version": "3.7.1"
  }
 },
 "nbformat": 4,
 "nbformat_minor": 2
}
