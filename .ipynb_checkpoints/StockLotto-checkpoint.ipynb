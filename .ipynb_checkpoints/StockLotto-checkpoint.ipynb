{
 "cells": [
  {
   "cell_type": "code",
   "execution_count": null,
   "metadata": {},
   "outputs": [],
   "source": [
    "from sklearn import tree\n",
    "import pandas as pd\n",
    "from sklearn.linear_model import LinearRegression"
   ]
  },
  {
   "cell_type": "code",
   "execution_count": null,
   "metadata": {
    "scrolled": true
   },
   "outputs": [],
   "source": [
    "data = pd.read_csv('morning.csv')\n",
    "day = list(zip(data['day'],data['month'],data['year']))\n",
    "\n",
    "last_2digit_down = data['last_2digit_down']\n",
    "iD = int(input(\"Day: \"))\n",
    "iM = int(input(\"Month: \"))\n",
    "iY = int(input(\"Year: \"))"
   ]
  },
  {
   "cell_type": "code",
   "execution_count": null,
   "metadata": {},
   "outputs": [],
   "source": [
    "def perdictLotto(d,m,y,data1,data2):\n",
    "\tclassifier = tree.DecisionTreeClassifier(criterion = \"entropy\",max_depth = 3)\n",
    "\tclassifier.fit(data1,data2)\n",
    "\treturn classifier.predict([[d,m,y]])[0]"
   ]
  },
  {
   "cell_type": "code",
   "execution_count": null,
   "metadata": {
    "scrolled": true
   },
   "outputs": [],
   "source": [
    "print(\"      %02d\"%perdictLotto(iD,iM,iY,day,last_2digit_down))  #825,47,200,72"
   ]
  },
  {
   "cell_type": "code",
   "execution_count": 299,
   "metadata": {},
   "outputs": [],
   "source": [
    "def perdictLotto2(d,m,y,data1,data2):\n",
    "\tmodel = LinearRegression()\n",
    "\tmodel.fit(data1,data2)\n",
    "\tpredict = model.predict([[d,m,y]])\n",
    "\treturn predict[0]"
   ]
  },
  {
   "cell_type": "code",
   "execution_count": 300,
   "metadata": {},
   "outputs": [
    {
     "name": "stdout",
     "output_type": "stream",
     "text": [
      "      53\n"
     ]
    }
   ],
   "source": [
    "print(\"      %02d\"%perdictLotto2(iD,iM,iY,day,last_2digit_down))"
   ]
  },
  {
   "cell_type": "code",
   "execution_count": null,
   "metadata": {},
   "outputs": [],
   "source": []
  }
 ],
 "metadata": {
  "kernelspec": {
   "display_name": "Python 3",
   "language": "python",
   "name": "python3"
  },
  "language_info": {
   "codemirror_mode": {
    "name": "ipython",
    "version": 3
   },
   "file_extension": ".py",
   "mimetype": "text/x-python",
   "name": "python",
   "nbconvert_exporter": "python",
   "pygments_lexer": "ipython3",
   "version": "3.7.1"
  }
 },
 "nbformat": 4,
 "nbformat_minor": 2
}
