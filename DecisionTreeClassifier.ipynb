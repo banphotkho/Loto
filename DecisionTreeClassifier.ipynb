{
 "cells": [
  {
   "cell_type": "code",
   "execution_count": 1,
   "metadata": {},
   "outputs": [],
   "source": [
    "from sklearn import tree\n",
    "import pandas as pd"
   ]
  },
  {
   "cell_type": "code",
   "execution_count": 2,
   "metadata": {
    "scrolled": true
   },
   "outputs": [
    {
     "name": "stdout",
     "output_type": "stream",
     "text": [
      "Day: 1\n",
      "Month: 6\n",
      "Year: 2562\n"
     ]
    }
   ],
   "source": [
    "data = pd.read_csv('thLotto_38-62.csv')\n",
    "day = list(zip(data['day'],data['month'],data['year']))\n",
    "first = data['first']\n",
    "digit3 = data['3digit']\n",
    "last_2digit_top = data['last_2digit_top']\n",
    "first_3digit_1 = data['first_3digit_1']\n",
    "first_3digit_2 = data['first_3digit_2']\n",
    "last_3digit_1 = data['last_3digit_1']\n",
    "last_3digit_2 = data['last_3digit_2']\n",
    "last_2digit_down = data['last_2digit_down']\n",
    "iD = int(input(\"Day: \"))\n",
    "iM = int(input(\"Month: \"))\n",
    "iY = int(input(\"Year: \"))"
   ]
  },
  {
   "cell_type": "code",
   "execution_count": 3,
   "metadata": {},
   "outputs": [],
   "source": [
    "def perdictLotto(d,m,y,data1,data2):\n",
    "\tclassifier = tree.DecisionTreeClassifier()\n",
    "\tclassifier.fit(data1,data2)\n",
    "\treturn classifier.predict([[d,m,y]])[0]"
   ]
  },
  {
   "cell_type": "code",
   "execution_count": 4,
   "metadata": {},
   "outputs": [
    {
     "name": "stdout",
     "output_type": "stream",
     "text": [
      "\n",
      "First: 109767\n",
      "Three digit: 117\n",
      "The first three digits: 888\n",
      "                        553\n",
      "The last three digits:  403\n",
      "                        650\n",
      "Two digits:    17\n",
      "               52\n"
     ]
    }
   ],
   "source": [
    "print(\"\\nFirst: %06d\"%perdictLotto(iD,iM,iY,day,first))\n",
    "print(\"Three digit: %03d\"%perdictLotto(iD,iM,iY,day,digit3))\n",
    "print(\"The first three digits: %03d\"%perdictLotto(iD,iM,iY,day,first_3digit_1))\n",
    "print(\"                        %03d\"%perdictLotto(iD,iM,iY,day,first_3digit_2))\n",
    "print(\"The last three digits:  %03d\"%perdictLotto(iD,iM,iY,day,last_3digit_1))\n",
    "print(\"                        %03d\"%perdictLotto(iD,iM,iY,day,last_3digit_2))\n",
    "print(\"Two digits:    %02d\"%perdictLotto(iD,iM,iY,day,last_2digit_top))\n",
    "print(\"               %02d\"%perdictLotto(iD,iM,iY,day,last_2digit_down))"
   ]
  },
  {
   "cell_type": "code",
   "execution_count": null,
   "metadata": {},
   "outputs": [],
   "source": []
  }
 ],
 "metadata": {
  "kernelspec": {
   "display_name": "Python 3",
   "language": "python",
   "name": "python3"
  },
  "language_info": {
   "codemirror_mode": {
    "name": "ipython",
    "version": 3
   },
   "file_extension": ".py",
   "mimetype": "text/x-python",
   "name": "python",
   "nbconvert_exporter": "python",
   "pygments_lexer": "ipython3",
   "version": "3.7.1"
  }
 },
 "nbformat": 4,
 "nbformat_minor": 2
}
