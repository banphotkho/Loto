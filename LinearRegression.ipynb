{
 "cells": [
  {
   "cell_type": "code",
   "execution_count": 1,
   "metadata": {},
   "outputs": [],
   "source": [
    "from sklearn.linear_model import LinearRegression\n",
    "import pandas as pd"
   ]
  },
  {
   "cell_type": "code",
   "execution_count": 2,
   "metadata": {},
   "outputs": [],
   "source": [
    "data = pd.read_csv('thLotto_38-62.csv')\n",
    "day = list(zip(data['day'],data['month'],data['year']))\n",
    "first = data['first']\n",
    "digit3 = data['3digit']\n",
    "last_2digit_top = data['last_2digit_top']\n",
    "first_3digit_1 = data['first_3digit_1']\n",
    "first_3digit_2 = data['first_3digit_2']\n",
    "last_3digit_1 = data['last_3digit_1']\n",
    "last_3digit_2 = data['last_3digit_2']\n",
    "last_2digit_down = data['last_2digit_down']"
   ]
  },
  {
   "cell_type": "code",
   "execution_count": 3,
   "metadata": {
    "scrolled": true
   },
   "outputs": [
    {
     "name": "stdout",
     "output_type": "stream",
     "text": [
      "Day: 12\n",
      "Month: 6\n",
      "Year: 2562\n"
     ]
    }
   ],
   "source": [
    "iD = int(input(\"Day: \"))\n",
    "iM = int(input(\"Month: \"))\n",
    "iY = int(input(\"Year: \"))"
   ]
  },
  {
   "cell_type": "code",
   "execution_count": 4,
   "metadata": {},
   "outputs": [],
   "source": [
    "def perdictLotto(d,m,y,data1,data2):\n",
    "\tmodel = LinearRegression()\n",
    "\tmodel.fit(data1,data2)\n",
    "\tpredict = model.predict([[d,m,y]])\n",
    "\treturn predict[0]"
   ]
  },
  {
   "cell_type": "code",
   "execution_count": null,
   "metadata": {},
   "outputs": [],
   "source": []
  },
  {
   "cell_type": "code",
   "execution_count": 5,
   "metadata": {},
   "outputs": [
    {
     "name": "stdout",
     "output_type": "stream",
     "text": [
      "\n",
      "First: 460519\n",
      "Three digit: 503\n",
      "The first three digits: 242\n",
      "                        486\n",
      "The last three digits:  489\n",
      "                        755\n",
      "Two digits:    42\n",
      "               50\n"
     ]
    }
   ],
   "source": [
    "print(\"\\nFirst: %06d\"%perdictLotto(iD,iM,iY,day,first))\n",
    "print(\"Three digit: %03d\"%perdictLotto(iD,iM,iY,day,digit3))\n",
    "print(\"The first three digits: %03d\"%perdictLotto(iD,iM,iY,day,first_3digit_1))\n",
    "print(\"                        %03d\"%perdictLotto(iD,iM,iY,day,first_3digit_2))\n",
    "print(\"The last three digits:  %03d\"%perdictLotto(iD,iM,iY,day,last_3digit_1))\n",
    "print(\"                        %03d\"%perdictLotto(iD,iM,iY,day,last_3digit_2))\n",
    "print(\"Two digits:    %02d\"%perdictLotto(iD,iM,iY,day,last_2digit_top))\n",
    "print(\"               %02d\"%perdictLotto(iD,iM,iY,day,last_2digit_down))"
   ]
  },
  {
   "cell_type": "code",
   "execution_count": null,
   "metadata": {},
   "outputs": [],
   "source": [
    " \n"
   ]
  }
 ],
 "metadata": {
  "kernelspec": {
   "display_name": "Python 3",
   "language": "python",
   "name": "python3"
  },
  "language_info": {
   "codemirror_mode": {
    "name": "ipython",
    "version": 3
   },
   "file_extension": ".py",
   "mimetype": "text/x-python",
   "name": "python",
   "nbconvert_exporter": "python",
   "pygments_lexer": "ipython3",
   "version": "3.7.1"
  }
 },
 "nbformat": 4,
 "nbformat_minor": 2
}
